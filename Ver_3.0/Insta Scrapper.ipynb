{
 "cells": [
  {
   "cell_type": "code",
   "execution_count": 2,
   "metadata": {},
   "outputs": [],
   "source": [
    "import ast\n",
    "from instabot import Bot\n",
    "from time import sleep\n",
    "from random import randint"
   ]
  },
  {
   "cell_type": "code",
   "execution_count": 3,
   "metadata": {},
   "outputs": [],
   "source": [
    "def non_followers(following,followers):\n",
    "\treturn list(set(following) - set(followers))"
   ]
  },
  {
   "cell_type": "code",
   "execution_count": 4,
   "metadata": {},
   "outputs": [
    {
     "output_type": "stream",
     "name": "stderr",
     "text": [
      "2021-04-26 21:28:05,764 - INFO - Instabot version: 0.117.0 Started\n"
     ]
    }
   ],
   "source": [
    "bot=Bot()"
   ]
  },
  {
   "cell_type": "code",
   "execution_count": 5,
   "metadata": {},
   "outputs": [
    {
     "output_type": "stream",
     "name": "stderr",
     "text": [
      "2021-04-26 21:28:08,801 - INFO - Not yet logged in starting: PRE-LOGIN FLOW!\n",
      "2021-04-26 21:28:14,621 - INFO - Logged-in successfully as 'surya_cool_guy12'!\n",
      "2021-04-26 21:28:14,621 - INFO - LOGIN FLOW! Just logged-in: True\n",
      "LOGGEDIN\n"
     ]
    }
   ],
   "source": [
    "bot.login(username=\"surya_cool_guy12\",password=\"xyz123\")\n",
    "print(\"LOGGEDIN\")\n",
    "sleep(2)"
   ]
  },
  {
   "source": [
    "# Get All Followers and Non Followers"
   ],
   "cell_type": "markdown",
   "metadata": {}
  },
  {
   "cell_type": "code",
   "execution_count": 6,
   "metadata": {},
   "outputs": [
    {
     "output_type": "stream",
     "name": "stderr",
     "text": [
      "Getting followers of 15041839142: 8097it [00:57, 141.06it/s]                          \n"
     ]
    }
   ],
   "source": [
    "followers = bot.get_user_followers(\"calcutta_bloggers\")\n",
    "f=open(\"Followers.txt\",\"w\")\n",
    "f.write(str(followers))\n",
    "f.close()"
   ]
  },
  {
   "cell_type": "code",
   "execution_count": 7,
   "metadata": {},
   "outputs": [
    {
     "output_type": "stream",
     "name": "stderr",
     "text": [
      "Getting followings of 15041839142: 100%|█████████▉| 5781/5804 [02:08<00:00, 44.95it/s]\n"
     ]
    }
   ],
   "source": [
    "following = bot.get_user_following(\"calcutta_bloggers\")\n",
    "f=open(\"Following.txt\",\"w\")\n",
    "f.write(str(following))\n",
    "f.close()"
   ]
  },
  {
   "cell_type": "code",
   "execution_count": null,
   "metadata": {},
   "outputs": [],
   "source": [
    "bot.logout()"
   ]
  },
  {
   "cell_type": "code",
   "execution_count": 8,
   "metadata": {},
   "outputs": [
    {
     "output_type": "stream",
     "name": "stdout",
     "text": [
      "Got Followers\n"
     ]
    }
   ],
   "source": [
    "f=open(\"Followers.txt\",\"r\")\n",
    "if f.mode=='r':\n",
    "    followers=f.read()\n",
    "f.close()\n",
    "print(\"Got Followers\")"
   ]
  },
  {
   "cell_type": "code",
   "execution_count": 9,
   "metadata": {},
   "outputs": [
    {
     "output_type": "stream",
     "name": "stdout",
     "text": [
      "Got Followings\n"
     ]
    }
   ],
   "source": [
    "f=open(\"Following.txt\",\"r\")\n",
    "if f.mode=='r':\n",
    "    following=f.read()\n",
    "f.close()\n",
    "print(\"Got Followings\")"
   ]
  },
  {
   "cell_type": "code",
   "execution_count": 10,
   "metadata": {},
   "outputs": [],
   "source": [
    "followers = ast.literal_eval(followers)\n",
    "following=ast.literal_eval(following)"
   ]
  },
  {
   "cell_type": "code",
   "execution_count": 11,
   "metadata": {},
   "outputs": [
    {
     "output_type": "stream",
     "name": "stdout",
     "text": [
      "Completed\n"
     ]
    }
   ],
   "source": [
    "nonfollowers = non_followers(following,followers)\n",
    "f=open(\"non_followers.txt\",\"w\")\n",
    "f.write(str(nonfollowers))\n",
    "f.close()\n",
    "print(\"Completed\")"
   ]
  },
  {
   "cell_type": "code",
   "execution_count": 12,
   "metadata": {},
   "outputs": [
    {
     "output_type": "execute_result",
     "data": {
      "text/plain": [
       "649"
      ]
     },
     "metadata": {},
     "execution_count": 12
    }
   ],
   "source": [
    "len(nonfollowers)"
   ]
  },
  {
   "source": [
    "# Get Non-Followers Username"
   ],
   "cell_type": "markdown",
   "metadata": {}
  },
  {
   "cell_type": "code",
   "execution_count": null,
   "metadata": {},
   "outputs": [],
   "source": [
    "bot.login(username=\"calcutta_blog\",password=\"upsisoumya\")\n",
    "print(\"LOGGEDIN\")\n",
    "sleep(2)"
   ]
  },
  {
   "cell_type": "code",
   "execution_count": 13,
   "metadata": {},
   "outputs": [],
   "source": [
    "nfollowers=[]\n",
    "\n",
    "f=open(\"non_followers.txt\",\"r\")\n",
    "if f.mode=='r':\n",
    "    nfollowers=f.read()\n",
    "f.close()"
   ]
  },
  {
   "cell_type": "code",
   "execution_count": 14,
   "metadata": {},
   "outputs": [
    {
     "output_type": "stream",
     "name": "stdout",
     "text": [
      "No of non followers : 649\nGetting username \n"
     ]
    }
   ],
   "source": [
    "nfollowers = ast.literal_eval(nfollowers)\n",
    "print(\"No of non followers : {}\".format(len(nfollowers)))\n",
    "print(\"Getting username \")"
   ]
  },
  {
   "cell_type": "code",
   "execution_count": 15,
   "metadata": {},
   "outputs": [],
   "source": [
    "limit=160 if len(nfollowers)>160 else len(nfollowers)"
   ]
  },
  {
   "cell_type": "code",
   "execution_count": 16,
   "metadata": {
    "tags": []
   },
   "outputs": [
    {
     "output_type": "stream",
     "name": "stdout",
     "text": [
      "1.foodbloggersconnect\n",
      "2.foodishflood\n",
      "3.the_flavour_republic\n",
      "4.__khubsurat_lamhe__\n",
      "5.rs_the_food_journey_continues\n",
      "6.raj.rasoi\n",
      "7.food_philic.assam\n",
      "8.gourmand_ad\n",
      "9.whos_cuuking\n",
      "10.lapinozpizzaudaipur\n",
      "11.hungrypandaftp\n",
      "12.repostodisha\n",
      "13.food_diaries_with_nilakshi\n",
      "14.samosazz.in\n",
      "15.popularpizza\n",
      "16.kuzhina.e.flores\n",
      "17.foodbolgger\n",
      "18.i_m_just_foodie\n",
      "19.yum_yfood\n",
      "20.amira.cookland\n",
      "21.craving_boston\n",
      "22.thegreensnackco\n",
      "23.hyderabad_se_hai_hum\n",
      "24.thefoodieshabab\n",
      "25.foodsvillaa\n",
      "26.a_tasty_wish_\n",
      "27.yummy_food_zone\n",
      "28.gauri_farm\n",
      "29.health7nirwasa7\n",
      "30.spoonsforhappiness\n",
      "31.food4delhi.in\n",
      "32.the_dining_affair\n",
      "33.meals_on_demand25\n",
      "34.food_fasscinated_me\n",
      "35.babu_ka_memer\n",
      "36.sinestesiajb\n",
      "37.pringosplating\n",
      "38.patidarfood\n",
      "39.yummy_tummy_2710\n",
      "40.vedantfoodsolutions\n",
      "41.delhi6kechatore\n",
      "42.indianfood.daily\n",
      "43.aromaticspoonfuls\n",
      "44.authentichomefood\n",
      "45.sizzling_diary19\n",
      "46.delhifoodies95\n",
      "47.risholflavour\n",
      "48.scribbledflashes\n",
      "49.dafni_india\n",
      "50.bhaiwaah_360\n",
      "51.foodieclicks_delhi\n",
      "52.fooda_esthetic\n",
      "53.a_pinch_of_salt_007\n",
      "54.thefoodbaesics\n",
      "55.foodietechsovan_0\n",
      "56.foodanddelights\n",
      "57.foodlove_481\n",
      "58.taste_review_share\n",
      "59.cafefoodandfit\n",
      "60.foodieecooking\n",
      "61.helpusgreen\n",
      "62.foodpremi26\n",
      "63.fooodquest._\n",
      "64._ice.varya_\n",
      "65.adisfoodworld\n",
      "66.foodie121314\n",
      "67.food_yummy24\n",
      "68.cheesenchillies\n",
      "69.goodie.foodie.in.uk\n",
      "70.foodvlove\n",
      "71.phindiaofficial\n",
      "72.insta__udaipur\n",
      "73.the_food_zone__\n",
      "74.a_doooodle_story\n",
      "75.dilsefoodie0409\n",
      "76.souls_n_the_city\n",
      "77.nomorefastfoods\n",
      "78.the.gourmet.granny\n",
      "79.gluttony_tad\n",
      "80.the_food_glamm\n",
      "81.foodie.since.birth\n",
      "82.singhniikkii\n",
      "83.jaijalaramfoodproducts\n",
      "84.tomato762020\n",
      "85.food.vale.dude\n",
      "86.nowchowdown\n",
      "87.tutty_foodie\n",
      "88.bhojon_rosik2020\n",
      "89.anumita.nadesan\n",
      "90._foodoholic_\n",
      "91.foodie__doodle\n",
      "92.naijaorganic\n",
      "93.chatori_sisters\n",
      "94.foodanalytics_\n",
      "95.hungrystudioo\n",
      "96.foodoroshik\n",
      "97.foodygetstarted\n",
      "98.food_travel_capture\n",
      "99.bhukkadengineers\n",
      "100.flavour__feast\n",
      "101.foods_quare\n",
      "102.foodieaza\n",
      "103.yummfoodz2020\n",
      "104.the_musing_tales\n",
      "105.happyvihaanmalhotra\n",
      "106.goodfoodthoughts\n",
      "107.group.study.fact\n",
      "108.taste_table_delights\n",
      "109.impatient_foody\n",
      "110.paradise_the_kitchenette\n",
      "111.abendessen_\n",
      "112.eat_with_simu00\n",
      "113.melidecore\n",
      "114.miss_masala95\n",
      "115.ourkitchenexpedia\n",
      "116.cookinghooking\n",
      "117.cooking__moroccan\n",
      "118.food_thikana\n",
      "119.the_funky_foodies_\n",
      "120.burstofspices25\n",
      "121.foodwithabite\n",
      "122.food.peddler\n",
      "123.crumbz_and_berries\n",
      "124.jalgaon_tales\n",
      "125.thegoldenchimney\n",
      "126.itz_affu_khan._\n",
      "127.apoorv_rai_\n",
      "128.i_m_dating_foood\n",
      "129.casalmanfredi\n",
      "130.khatey_raho\n",
      "131.__journey__with__food__\n",
      "132.themaheshwarichulha\n",
      "133.foodpiclimited\n",
      "134.foodies_at_gokulam\n",
      "135.foodship_only\n",
      "136.ghumakkadd\n",
      "137.prozomusic\n",
      "138.harjeet_ki_rasoi\n",
      "139.home_rasoi\n",
      "140.scarpettalovers\n",
      "141.allaboutmytummy\n",
      "142._thefoodler_\n",
      "143.cookinrasoi\n",
      "144.foodsmellsme\n",
      "145.___foodicious___\n",
      "146.hungervillage\n",
      "147.love_eat_readd\n",
      "148._foodfest\n",
      "149.foodkila_ig\n",
      "150.jnjsfoodbasket\n",
      "151.saveurkitchen\n",
      "152.fooodiesart\n",
      "153.zaika.zordaar\n",
      "154.tasty.cuisine_\n",
      "155.delhifoodie_12\n",
      "156.feastology.in\n",
      "157.foodie_swats\n",
      "158.cheesenpepper2\n",
      "159.the_flavor_feed\n",
      "160.500_grams_later\n"
     ]
    }
   ],
   "source": [
    "don=[]\n",
    "f=open(\"non_folls.txt\",\"w+\")\n",
    "for i in range(limit):\n",
    "    s=bot.get_username_from_user_id(nfollowers[i])\n",
    "    #print(\"{}\".format(s))\n",
    "    print(f'{i+1}.{s}')\n",
    "    f.write(s+\"\\n\")\n",
    "    don.append(nfollowers[i])\n",
    "    sleep(randint(0,2))\n",
    "f.close()"
   ]
  },
  {
   "cell_type": "code",
   "execution_count": 17,
   "metadata": {},
   "outputs": [
    {
     "output_type": "stream",
     "name": "stderr",
     "text": [
      "2021-04-26 21:45:32,949 - INFO - Bot stopped. Worked: 0:17:27.430201\n",
      "2021-04-26 21:45:32,996 - INFO - Total requests: 337\n"
     ]
    }
   ],
   "source": [
    "bot.logout()"
   ]
  },
  {
   "cell_type": "code",
   "execution_count": 18,
   "metadata": {},
   "outputs": [],
   "source": [
    "to_unfoll=[]\n",
    "to_unfoll=list(set(nfollowers)-set(don))"
   ]
  },
  {
   "cell_type": "code",
   "execution_count": 19,
   "metadata": {},
   "outputs": [],
   "source": [
    "f=open(\"non_followers.txt\",\"w\")\n",
    "f.write(str(to_unfoll))\n",
    "f.close()"
   ]
  },
  {
   "cell_type": "code",
   "execution_count": null,
   "metadata": {},
   "outputs": [],
   "source": []
  }
 ],
 "metadata": {
  "kernelspec": {
   "name": "python385jvsc74a57bd037eb40c3388cfde35488e2d005b0d69ca91ddeff8a429754d4da636d3f888e5e",
   "display_name": "Python 3.8.5 64-bit ('base': conda)"
  },
  "language_info": {
   "codemirror_mode": {
    "name": "ipython",
    "version": 3
   },
   "file_extension": ".py",
   "mimetype": "text/x-python",
   "name": "python",
   "nbconvert_exporter": "python",
   "pygments_lexer": "ipython3",
   "version": "3.8.5"
  }
 },
 "nbformat": 4,
 "nbformat_minor": 4
}