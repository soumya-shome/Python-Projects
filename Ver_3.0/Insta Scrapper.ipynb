{
 "cells": [
  {
   "cell_type": "code",
   "execution_count": 1,
   "metadata": {},
   "outputs": [],
   "source": [
    "import ast\n",
    "from instabot import Bot\n",
    "from time import sleep\n",
    "from random import randint"
   ]
  },
  {
   "source": [
    "#### Non Follower Function"
   ],
   "cell_type": "markdown",
   "metadata": {}
  },
  {
   "cell_type": "code",
   "execution_count": 16,
   "metadata": {},
   "outputs": [],
   "source": [
    "def non_followers(following,followers):\n",
    "\treturn list(set(following) - set(followers))"
   ]
  },
  {
   "cell_type": "code",
   "execution_count": 4,
   "metadata": {},
   "outputs": [
    {
     "output_type": "stream",
     "name": "stderr",
     "text": [
      "2021-02-15 00:58:01,853 - INFO - Instabot version: 0.117.0 Started\n"
     ]
    }
   ],
   "source": [
    "bot=Bot()"
   ]
  },
  {
   "source": [
    "### Logging in "
   ],
   "cell_type": "markdown",
   "metadata": {}
  },
  {
   "cell_type": "code",
   "execution_count": 3,
   "metadata": {},
   "outputs": [
    {
     "output_type": "stream",
     "name": "stderr",
     "text": [
      "2021-02-13 12:27:33,378 - INFO - Not yet logged in starting: PRE-LOGIN FLOW!\n",
      "2021-02-13 12:27:39,571 - INFO - Logged-in successfully as 'randompy2020'!\n",
      "2021-02-13 12:27:39,575 - INFO - LOGIN FLOW! Just logged-in: True\n",
      "LOGGEDIN\n"
     ]
    }
   ],
   "source": [
    "bot.login(username=\"randompy2020\",password=\"lucifer99\")\n",
    "print(\"LOGGEDIN\")\n",
    "sleep(2)"
   ]
  },
  {
   "source": [
    "#### Getting followers"
   ],
   "cell_type": "markdown",
   "metadata": {}
  },
  {
   "cell_type": "code",
   "execution_count": 4,
   "metadata": {},
   "outputs": [
    {
     "output_type": "stream",
     "name": "stderr",
     "text": [
      "Getting followers of 15041839142: 100%|█████████▉| 7326/7328 [00:51<00:00, 143.41it/s]\n"
     ]
    }
   ],
   "source": [
    "followers = bot.get_user_followers(\"calcutta_bloggers\")\n",
    "f=open(\"Followers.txt\",\"w\")\n",
    "f.write(str(followers))\n",
    "f.close()"
   ]
  },
  {
   "cell_type": "code",
   "execution_count": 5,
   "metadata": {},
   "outputs": [
    {
     "output_type": "stream",
     "name": "stderr",
     "text": [
      "Getting followings of 15041839142: 100%|█████████▉| 5877/5902 [02:28<00:00, 39.57it/s]\n"
     ]
    }
   ],
   "source": [
    "following = bot.get_user_following(\"calcutta_bloggers\")\n",
    "f=open(\"Following.txt\",\"w\")\n",
    "f.write(str(following))\n",
    "f.close()"
   ]
  },
  {
   "source": [
    "#### Logged Out"
   ],
   "cell_type": "markdown",
   "metadata": {}
  },
  {
   "cell_type": "code",
   "execution_count": 6,
   "metadata": {},
   "outputs": [
    {
     "output_type": "stream",
     "name": "stderr",
     "text": [
      "2021-02-13 12:32:32,243 - INFO - Bot stopped. Worked: 0:05:01.685027\n",
      "2021-02-13 12:32:32,331 - INFO - Total requests: 170\n"
     ]
    }
   ],
   "source": [
    "bot.logout()"
   ]
  },
  {
   "cell_type": "code",
   "execution_count": 7,
   "metadata": {},
   "outputs": [],
   "source": [
    "followers=[]\n",
    "following=[]"
   ]
  },
  {
   "cell_type": "code",
   "execution_count": 8,
   "metadata": {},
   "outputs": [
    {
     "output_type": "stream",
     "name": "stdout",
     "text": [
      "Got Followers\n"
     ]
    }
   ],
   "source": [
    "f=open(\"Followers.txt\",\"r\")\n",
    "if f.mode=='r':\n",
    "    followers=f.read()\n",
    "f.close()\n",
    "print(\"Got Followers\")"
   ]
  },
  {
   "cell_type": "code",
   "execution_count": 9,
   "metadata": {},
   "outputs": [
    {
     "output_type": "stream",
     "name": "stdout",
     "text": [
      "Got Followings\n"
     ]
    }
   ],
   "source": [
    "f=open(\"Following.txt\",\"r\")\n",
    "if f.mode=='r':\n",
    "    following=f.read()\n",
    "f.close()\n",
    "print(\"Got Followings\")"
   ]
  },
  {
   "cell_type": "code",
   "execution_count": 11,
   "metadata": {},
   "outputs": [],
   "source": [
    "followers = ast.literal_eval(followers)\n",
    "following=ast.literal_eval(following)"
   ]
  },
  {
   "cell_type": "code",
   "execution_count": 12,
   "metadata": {},
   "outputs": [
    {
     "output_type": "stream",
     "name": "stdout",
     "text": [
      "Completed\n"
     ]
    }
   ],
   "source": [
    "nonfollowers = non_followers(following,followers)\n",
    "f=open(\"non_followers.txt\",\"w\")\n",
    "f.write(str(nonfollowers))\n",
    "f.close()\n",
    "print(\"Completed\")"
   ]
  },
  {
   "cell_type": "code",
   "execution_count": 5,
   "metadata": {},
   "outputs": [
    {
     "output_type": "stream",
     "name": "stderr",
     "text": [
      "2021-02-15 00:58:08,874 - INFO - Not yet logged in starting: PRE-LOGIN FLOW!\n",
      "2021-02-15 00:58:14,242 - INFO - Logged-in successfully as 'randompy2020'!\n",
      "2021-02-15 00:58:14,244 - INFO - LOGIN FLOW! Just logged-in: True\n",
      "LOGGEDIN\n"
     ]
    }
   ],
   "source": [
    "bot.login(username=\"randompy2020\",password=\"lucifer99\")\n",
    "print(\"LOGGEDIN\")\n",
    "sleep(2)"
   ]
  },
  {
   "cell_type": "code",
   "execution_count": 6,
   "metadata": {},
   "outputs": [],
   "source": [
    "nfollowers=[]\n",
    "\n",
    "f=open(\"non_followers.txt\",\"r\")\n",
    "if f.mode=='r':\n",
    "    nfollowers=f.read()\n",
    "f.close()"
   ]
  },
  {
   "cell_type": "code",
   "execution_count": 7,
   "metadata": {},
   "outputs": [
    {
     "output_type": "stream",
     "name": "stdout",
     "text": [
      "No of non followers : 1112\nGetting username \n"
     ]
    }
   ],
   "source": [
    "nfollowers = ast.literal_eval(nfollowers)\n",
    "print(\"No of non followers : {}\".format(len(nfollowers)))\n",
    "print(\"Getting username \")"
   ]
  },
  {
   "cell_type": "code",
   "execution_count": 8,
   "metadata": {},
   "outputs": [
    {
     "output_type": "stream",
     "name": "stdout",
     "text": [
      "eat_n_dress\n",
      "food_cravings27\n",
      "ig.fooddd\n",
      "foodformyfoodies\n",
      "food_belly008\n",
      "foodinsteel\n",
      "orgenicmeme\n",
      "the_foodies_bazaar\n",
      "thecurious_cook\n",
      "personalisationby_heena_shoeb_\n",
      "thefoodelixir\n",
      "food_ie_love\n",
      "mayflower_maiden\n",
      "_spicesoflife_\n",
      "hi_foodies_\n",
      "abegi.swad\n",
      "sizzlingflavor_bygomi\n",
      "spicyndtangy\n",
      "kebabscurrieskcco\n",
      "foodiesphase\n",
      "tastewhistle\n",
      "foody_space\n",
      "desserts_n_beyond\n",
      "officialmaking_andbaking\n",
      "know_where_to_munch\n",
      "bikramdas651\n",
      "redgrillbbq\n",
      "foodie4luv\n",
      "asinspirations\n",
      "foodculture___\n",
      "kkl_royal_foods\n",
      "_hogger_blogger\n",
      "simplyfoodistic\n",
      "bachelors_cooking_corner\n",
      "food_mehkma\n",
      "wanderlust_foodies_\n",
      "chroniclingfood\n",
      "thetrove.in\n",
      "hungryheadvlogs\n",
      "pepperperfect11\n",
      "guri._.20\n",
      "rewathivaishnav\n",
      "recipe_junction_\n",
      "pre_valentine_collab\n",
      "flavourfeast_by_preethi\n",
      "foodgramgurgaon\n",
      "flavoursndelights\n",
      "foodie_rendezvous\n",
      "foodie_licious_heaven_\n",
      "food2_food\n",
      "cait.the.student.foodie\n",
      "discoveryrestaurant\n",
      "muzaffarpuriya_foodiee\n",
      "the_veggie_foodiie\n",
      "elite_bite\n",
      "yummy.homechef\n",
      "the__.g_r_a_p_h_i_c.__foodies\n",
      "gargi_gangapadhyay\n",
      "_travelers_soul\n",
      "bestliveicecream\n",
      "food_loving_lens\n",
      "lakhnawizayka\n",
      "mouthiliciouss\n",
      "moodieplusfoodie\n",
      "jaipurfoodz\n",
      "food.beauty_realms\n",
      "foodtastic_me\n",
      "comatosecookies\n",
      "chatpati_ranchi\n",
      "flow.er6534\n",
      "foodilicious_expert\n",
      "hyd_magnafoods\n",
      "foodie_hum\n",
      "thesubtlesavour\n",
      "prachi_foodie\n",
      "____fooditude____\n",
      "foodies_of_salipur\n",
      "roofili_pizza\n",
      "this_chaudhary_is_very_high_\n",
      "bhook_lagihaiyaar\n",
      "reinventingcooking\n",
      "woodfiredcafe\n",
      "lipsmackingexplorations\n",
      "foodielicious_head\n",
      "foodie_gurl_next_door\n",
      "cookingwithshitu98\n",
      "iam_rutvik27\n",
      "pinch_of_tastte\n",
      "food_thikana\n",
      "flavours_999\n",
      "shabina_makeupartist\n",
      "highonflame\n",
      "_tasteful_table_\n",
      "supercilliousphotography\n",
      "pr1yaa_s1ngh\n",
      "dinleaf_products\n",
      "sushitrann\n",
      "mmuskanjain_\n",
      "_foodie_mood\n",
      "foodpanda_lt\n",
      "delhiwalichori1996\n",
      "mariam.collection\n",
      "delhi_ke_chatkare\n",
      "foodicians.daily\n",
      "tastebuds_by_parul\n",
      "thefeastfantasy\n",
      "sunfeast_yippee\n",
      "kitchenjungle.2020\n",
      "foodfromglobe\n",
      "sarcastic._.chele\n",
      "anshoos_kitchen\n",
      "shaikiefood\n",
      "iam.vishal17\n",
      "justsanaah\n",
      "tosham_city\n",
      "nudsfods\n",
      "ishanichauhanmakeover\n",
      "the_foodhangover\n",
      "mummasluv4kriday\n",
      "foodknight2020\n",
      "raishreya__\n",
      "waleedtak\n",
      "gaurav_mudekar\n",
      "kolkatafoodfeast\n",
      "fn_gainer_loop\n",
      "heertohbadifathai\n",
      "cook_with_nagma\n",
      "hyderabadi.foodstuff\n",
      "nomoutloud\n",
      "hunger.ka.tikana\n",
      "naturyz\n",
      "wowthefoodfactory\n",
      "food_streat_\n",
      "thepinkjournall\n",
      "_hometown_flavours_\n",
      "hungerpoint_07\n",
      "karanpreetsinghsandhu\n",
      "foodwithkuljeet\n",
      "befikreymusafir\n",
      "momandanvi\n",
      "yash_lecious\n",
      "amhi_foodiekar\n",
      "foodiecrush2021\n",
      "selly_kom_cuisine\n",
      "flourishinghunger\n",
      "_foodchapters\n",
      "indian_cameraman\n",
      "lifefoodnjourney\n",
      "_blissful__bites\n",
      "foodwithplace\n",
      "ashish.nagargoje\n",
      "twogourmetsouls\n",
      "chhora_wid_wok\n",
      "foodglazed\n",
      "hellosupermoms\n",
      "kochenmitmir_cookwithme\n",
      "foodie_in_the_hut\n",
      "the_foodie_allahabadi\n",
      "imnile\n",
      "harshuwrites_\n",
      "food_galore_0.1\n",
      "the.fat.kid\n",
      "foodiciousdentist\n",
      "squaredacademy\n",
      "geekscanbefit\n",
      "better_choice_kitchen\n",
      "aesthetic_calcutta\n",
      "hungerite\n",
      "forknspoon92\n",
      "thefoodiedamsel\n",
      "esha25m\n",
      "shespeaksfood\n",
      "foodietechsovan_0\n",
      "fooood_and_fooood\n",
      "musaafir.mirza\n",
      "alessioskitchenpraha\n",
      "glamupbykunjal\n",
      "bhaderwahifood\n",
      "foodoverworld\n",
      "dig_foood\n",
      "focusnclick\n",
      "mr_food_corner24\n",
      "houseofcaviar_finefoods\n",
      "the_aesthetic_petuk\n",
      "hungry_bakery\n",
      "foodiedaiwik\n",
      "2bongirls\n",
      "princessaishvi_expressionqueen\n",
      "chefsspicebox\n",
      "ddphotos01\n",
      "jeetttttt_\n",
      "foodi.epedia\n",
      "kurkuresnacks\n",
      "jarvedworld\n",
      "desifoodkatta\n",
      "mybawarchi\n",
      "anubhavonline\n",
      "hopandbite\n",
      "moushumikirasoi\n",
      "____k_o_y_e_l____\n",
      "foodieingenes\n",
      "tayyaba_faheem\n",
      "givvetofficial\n",
      "food_travelgram\n",
      "pizzadestination_\n",
      "gujjufoodieboy\n",
      "monika_the_kichten_queen\n",
      "chef_nomzee\n",
      "eesha_thelipstickwali\n",
      "reeshaa03\n",
      "_foodieocity_\n",
      "foodie_mate\n",
      "frosto_89\n",
      "mansiiieee_\n",
      "twinsmum_shaanvi_shivyaa\n",
      "_food_tadka\n",
      "thehealthyprost\n",
      "saadifoodiekismat\n",
      "craving.platform\n",
      "warangal_food_wala\n",
      "merchant_optics\n",
      "food_craze_crave_\n",
      "odiafoodblogger\n",
      "thebhukkadbhai\n",
      "the_hungry_bengalurian\n",
      "sreyas_food_world\n",
      "foodieswelcome1\n",
      "thehungryguyss\n",
      "lifeisdeliciouss\n",
      "hungry_soul_2.0\n",
      "kolkata.foodie.dibyajit\n",
      "purvas_kitchen\n",
      "fitzaika\n",
      "a.n_k.i_t.a\n",
      "hearttex.in\n",
      "kotodama.sushi\n",
      "thespicesof.life_\n",
      "food_journey_with_raj\n",
      "two_and_a_half_chapati\n",
      "surat_food_factory\n",
      "yummybites_india\n",
      "the_bhukkhadd_at_nukkadd\n",
      "jiyaji.baker.boom\n",
      "blissfulbhilai\n",
      "alankriti.26\n",
      "foodefining\n",
      "my.food_blogs\n",
      "hangrypatels\n",
      "food.fiction_03\n",
      "ojasvi.mann\n",
      "thetasteofdelhi\n",
      "kitchenn_spices\n",
      "foodiefan21\n",
      "r_inkitchen\n",
      "veg._.delight\n",
      "abhishek_jha236\n",
      "mommys_island\n",
      "bholechatorey\n",
      "diettantra\n",
      "prateekfood_\n",
      "_foodiesfoodies_\n",
      "bhooklagihaiii\n",
      "foodttractive\n",
      "foodisallyouwant\n",
      "_snap._.it___\n",
      "cruising_cuisine\n",
      "_for_theloveoffood_\n",
      "when_veggies_meet\n",
      "bloom_with_craft86\n",
      "murugike\n",
      "dilkhushcuisine\n",
      "the_connoisseur__\n",
      "thegreenhousekolkata\n",
      "meal_teaser\n",
      "misscupcake_97\n",
      "hello__wanderlust\n",
      "living_life_beyond\n",
      "salted__sugar__\n",
      "foodies4825\n",
      "miafood_\n",
      "vishalverma.24\n",
      "magicaltummies\n",
      "foods_library\n",
      "my.food.cravingss\n",
      "gargi272512\n",
      "storiyaan_\n",
      "_snehabharti.14\n",
      "foodie._gemini_\n",
      "_teenfoodie\n",
      "_foody.for.you_28\n",
      "free_soul.09\n",
      "foodvibehits\n",
      "happygreeens\n",
      "__j_e_r_r_y.__\n",
      "foodie_follow_loops\n",
      "_marathi_junction\n",
      "gangster._.vinit\n",
      "whatwechoww\n",
      "trajectoryofficial\n",
      "cusinofoodflogs\n"
     ]
    }
   ],
   "source": [
    "don=[]\n",
    "f=open(\"non_folls.txt\",\"w+\")\n",
    "for i in range(300):\n",
    "    s=bot.get_username_from_user_id(nfollowers[i])\n",
    "    print(\"{}\".format(s))\n",
    "    f.write(s+\"\\n\")\n",
    "    don.append(nfollowers[i])\n",
    "    sleep(randint(0,2))\n",
    "f.close()"
   ]
  },
  {
   "cell_type": "code",
   "execution_count": 9,
   "metadata": {},
   "outputs": [
    {
     "output_type": "stream",
     "name": "stderr",
     "text": [
      "2021-02-15 01:14:20,805 - INFO - Bot stopped. Worked: 0:16:19.074111\n",
      "2021-02-15 01:14:20,813 - INFO - Total requests: 332\n"
     ]
    }
   ],
   "source": [
    "bot.logout()"
   ]
  },
  {
   "cell_type": "code",
   "execution_count": 10,
   "metadata": {},
   "outputs": [],
   "source": [
    "to_unfoll=[]\n",
    "to_unfoll=list(set(nfollowers)-set(don))"
   ]
  },
  {
   "cell_type": "code",
   "execution_count": 11,
   "metadata": {},
   "outputs": [],
   "source": [
    "f=open(\"non_followers.txt\",\"w\")\n",
    "f.write(str(to_unfoll))\n",
    "f.close()"
   ]
  }
 ],
 "metadata": {
  "kernelspec": {
   "display_name": "Python 3",
   "language": "python",
   "name": "python3"
  },
  "language_info": {
   "codemirror_mode": {
    "name": "ipython",
    "version": 3
   },
   "file_extension": ".py",
   "mimetype": "text/x-python",
   "name": "python",
   "nbconvert_exporter": "python",
   "pygments_lexer": "ipython3",
   "version": "3.8.5-final"
  }
 },
 "nbformat": 4,
 "nbformat_minor": 4
}