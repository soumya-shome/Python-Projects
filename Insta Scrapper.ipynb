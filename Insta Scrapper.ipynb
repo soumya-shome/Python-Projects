{
 "cells": [
  {
   "cell_type": "code",
   "execution_count": 3,
   "metadata": {},
   "outputs": [],
   "source": [
    "import ast\n",
    "from instabot import Bot\n",
    "from time import sleep\n",
    "from random import randint"
   ]
  },
  {
   "cell_type": "code",
   "execution_count": 2,
   "metadata": {},
   "outputs": [],
   "source": [
    "def non_followers(following,followers):\n",
    "\treturn list(set(following) - set(followers))"
   ]
  },
  {
   "cell_type": "code",
   "execution_count": 4,
   "metadata": {},
   "outputs": [
    {
     "output_type": "stream",
     "name": "stderr",
     "text": [
      "2021-05-17 15:37:57,319 - INFO - Instabot version: 0.117.0 Started\n"
     ]
    }
   ],
   "source": [
    "bot=Bot()"
   ]
  },
  {
   "cell_type": "code",
   "execution_count": 5,
   "metadata": {},
   "outputs": [
    {
     "output_type": "stream",
     "name": "stderr",
     "text": [
      "2021-05-17 15:37:58,961 - INFO - Not yet logged in starting: PRE-LOGIN FLOW!\n",
      "2021-05-17 15:38:04,015 - INFO - Logged-in successfully as 'random_py_01'!\n",
      "2021-05-17 15:38:04,016 - INFO - LOGIN FLOW! Just logged-in: True\n",
      "LOGGEDIN\n"
     ]
    }
   ],
   "source": [
    "bot.login(username=\"random_py_01\",password=\"xyz123\")\n",
    "print(\"LOGGEDIN\")\n",
    "sleep(2)"
   ]
  },
  {
   "source": [
    "# Get All Followers and Non Followers"
   ],
   "cell_type": "markdown",
   "metadata": {}
  },
  {
   "cell_type": "code",
   "execution_count": 5,
   "metadata": {},
   "outputs": [
    {
     "output_type": "stream",
     "name": "stderr",
     "text": [
      "Getting followers of 15041839142: 100%|█████████▉| 8165/8166 [01:01<00:00, 132.01it/s]\n"
     ]
    }
   ],
   "source": [
    "followers = bot.get_user_followers(\"calcutta_bloggers\")\n",
    "f=open(\"Followers.txt\",\"w\")\n",
    "f.write(str(followers))\n",
    "f.close()"
   ]
  },
  {
   "cell_type": "code",
   "execution_count": 6,
   "metadata": {},
   "outputs": [
    {
     "output_type": "stream",
     "name": "stderr",
     "text": [
      "Getting followings of 15041839142: 100%|█████████▉| 5883/5908 [02:37<00:00, 37.40it/s]\n"
     ]
    }
   ],
   "source": [
    "following = bot.get_user_following(\"calcutta_bloggers\")\n",
    "f=open(\"Following.txt\",\"w\")\n",
    "f.write(str(following))\n",
    "f.close()"
   ]
  },
  {
   "cell_type": "code",
   "execution_count": 7,
   "metadata": {},
   "outputs": [
    {
     "output_type": "stream",
     "name": "stdout",
     "text": [
      "Got Followers\n"
     ]
    }
   ],
   "source": [
    "f=open(\"Followers.txt\",\"r\")\n",
    "if f.mode=='r':\n",
    "    followers=f.read()\n",
    "f.close()\n",
    "print(\"Got Followers\")"
   ]
  },
  {
   "cell_type": "code",
   "execution_count": 8,
   "metadata": {},
   "outputs": [
    {
     "output_type": "stream",
     "name": "stdout",
     "text": [
      "Got Followings\n"
     ]
    }
   ],
   "source": [
    "f=open(\"Following.txt\",\"r\")\n",
    "if f.mode=='r':\n",
    "    following=f.read()\n",
    "f.close()\n",
    "print(\"Got Followings\")"
   ]
  },
  {
   "cell_type": "code",
   "execution_count": 9,
   "metadata": {},
   "outputs": [],
   "source": [
    "followers = ast.literal_eval(followers)\n",
    "following=ast.literal_eval(following)"
   ]
  },
  {
   "cell_type": "code",
   "execution_count": 10,
   "metadata": {},
   "outputs": [
    {
     "output_type": "stream",
     "name": "stdout",
     "text": [
      "Completed\n"
     ]
    }
   ],
   "source": [
    "nonfollowers = non_followers(following,followers)\n",
    "f=open(\"non_followers.txt\",\"w\")\n",
    "f.write(str(nonfollowers))\n",
    "f.close()\n",
    "print(\"Completed\")"
   ]
  },
  {
   "cell_type": "code",
   "execution_count": 11,
   "metadata": {},
   "outputs": [
    {
     "output_type": "execute_result",
     "data": {
      "text/plain": [
       "734"
      ]
     },
     "metadata": {},
     "execution_count": 11
    }
   ],
   "source": [
    "len(nonfollowers)"
   ]
  },
  {
   "source": [
    "# Get Non-Followers Username"
   ],
   "cell_type": "markdown",
   "metadata": {}
  },
  {
   "cell_type": "code",
   "execution_count": 6,
   "metadata": {},
   "outputs": [],
   "source": [
    "nfollowers=[]\n",
    "\n",
    "f=open(\"non_followers.txt\",\"r\")\n",
    "if f.mode=='r':\n",
    "    nfollowers=f.read()\n",
    "f.close()"
   ]
  },
  {
   "cell_type": "code",
   "execution_count": 7,
   "metadata": {},
   "outputs": [
    {
     "output_type": "stream",
     "name": "stdout",
     "text": [
      "No of non followers : 574\nGetting username \n"
     ]
    }
   ],
   "source": [
    "nfollowers = ast.literal_eval(nfollowers)\n",
    "print(\"No of non followers : {}\".format(len(nfollowers)))\n",
    "print(\"Getting username \")"
   ]
  },
  {
   "cell_type": "code",
   "execution_count": 8,
   "metadata": {},
   "outputs": [],
   "source": [
    "limit=160 if len(nfollowers)>150 else len(nfollowers)"
   ]
  },
  {
   "cell_type": "code",
   "execution_count": 9,
   "metadata": {
    "tags": []
   },
   "outputs": [
    {
     "output_type": "stream",
     "name": "stdout",
     "text": [
      "1.bombae.foodie\n",
      "2.india_knowledge_network\n",
      "3.cookingwithclaudiaa\n",
      "4.bawarchibachay\n",
      "5._foodshoodbykavi\n",
      "6.food_philic.assam\n",
      "7.rs_the_food_journey_continues\n",
      "8.healthy.recipes.and.desserts\n",
      "9.mycollaboratory\n",
      "10.just_homemade_food_by_kritika\n",
      "11.namma_paakatha_fooda\n",
      "12.drinkshunya\n",
      "13.foodypraful\n",
      "14._food__vibes\n",
      "15.thehoggersoul\n",
      "16.foodie_on_a_roll__\n",
      "17.food_swag_da\n",
      "18.tastytongueee\n",
      "19.all_that_senjuti_eats\n",
      "20.foodfamile\n",
      "21.thetastyplatter\n",
      "22.sunfeast_yippee\n",
      "23.faceofjaipur\n",
      "24.cook.with.happiness\n",
      "25.foodie_panda3\n",
      "26.theculinarycloudlkw\n",
      "27.foodie0021\n",
      "28.professional_foodii\n",
      "29.rasoigharbyrekha\n",
      "30.foodicted09_\n",
      "31.foodies__by__birth\n",
      "32.friendscoffeeeebar\n",
      "33.dastanbawarchi\n",
      "34.all__about_food_\n",
      "35.gastronomicstories_india\n",
      "36.flavours_illimitable\n",
      "37.spicybuds_\n",
      "38.cheat_meal_craving\n",
      "39.shirgaonkarpuranpoli_mumbai\n",
      "40.officialfoodieskitchen\n",
      "41.thefoodieshabab\n",
      "42.yoloudofficial\n",
      "43.mysteryflavours_2410\n",
      "44.foodiestaanofficial\n",
      "45.food.hurricane\n",
      "46.food.peddler\n",
      "47.tfghospitality\n",
      "48.dcolourfulpg\n",
      "49.spoons_of_mnz\n",
      "50.khana_yahin_milega\n",
      "51.foodgravitycafe\n",
      "52.foodiiee_villa\n",
      "53.foodit2020\n",
      "54.sihikitchen\n",
      "55.fbn_india\n",
      "56.foodie_us_official\n",
      "57.food_diaries_with_nilakshi\n",
      "58.isue_04\n",
      "59.lazeezofficial_\n",
      "60.madusfood\n",
      "61.goodfoodgoodmoodyt\n",
      "62.itzmebhaskar\n",
      "63.tingerestaurant\n",
      "64.theearthreserve\n",
      "65.flexyourfood.ph\n",
      "66.foodnlifestyle_official\n",
      "67.flavour_fantastic\n",
      "68.makeupswadka\n",
      "69.the_lockdown_magic\n",
      "70.the_kitchen_journey25\n",
      "71.deliciousfoodforall\n",
      "72.little_miss_foodoholic_\n",
      "73.foody_hawshi_traveler\n",
      "74.foodistt\n",
      "75.laughing__hunter\n",
      "76.ruchirasoiuk\n",
      "77.thewildmumbaikar\n",
      "78.foodie_till_death\n",
      "79.foodchaossss\n",
      "80.my__foodblog\n",
      "81.pathyam_spices\n",
      "82.nutridiet_niti\n",
      "83.foodieshoodiestudioxx\n",
      "84.foodwarden\n",
      "85.foodie_from_northeast\n",
      "86.chinchin_cooking\n",
      "87.kanpur_chill\n",
      "88.ig_foodyyum\n",
      "89.palate_quest\n",
      "90.eat_burp_eat\n",
      "91.fooodiezone\n",
      "92.leekumkee.india\n",
      "93.barriguitallenapty\n",
      "94.foddy_world786\n",
      "95.the_food_storiez\n",
      "96.moodie_foodie115\n",
      "97.khushbookk28\n",
      "98.foodielooks__\n",
      "99.__jay_vardhan\n",
      "100.maya.skitchen\n",
      "101.healthysoulsinsta\n",
      "102._foodie__kismat_\n",
      "103.hyderabad_se_hai_hum\n",
      "104.harjot__3496\n",
      "105.the_homemade_kitchen24_7\n",
      "106.vohealthyfoods\n",
      "107.khanekikahani\n",
      "108.ghar_jaisi_rasoi\n",
      "109.mylens_mydish\n",
      "110.navah_official\n",
      "111.evereve_periodprotection\n",
      "112.foodie_.sagu\n",
      "113.f.o.o.d_r.o.o.m\n",
      "114._._yummy_._2515\n",
      "115.food_executive\n",
      "116.food_affairs19\n",
      "117.esocial_official\n",
      "118.naijaorganic\n",
      "119.kasuri_masala_herbs\n",
      "120.healthy.foodfactory\n",
      "121.mrblobs_food\n",
      "122.cosfoodispriority\n",
      "123.thebigfatfoodguy\n",
      "124.bheemasena__nalamaharaja\n",
      "125.vansh.bhatia.7\n",
      "126.thenextheaven\n",
      "127.middle_class_kitchen.yt\n",
      "128.a_world_of_foodies\n",
      "129.foodandmovemumbai\n",
      "130.nafoodstelugu\n",
      "131.jaunpur_foodon\n",
      "132.foodproofofficial\n",
      "133.foodparadise.in\n",
      "134.mummasecretchef\n",
      "135.chatore_dilli_ke\n",
      "136._s.w.e.e.t_o.f.f.e.r.i.n.g.s_\n",
      "137.takie_co_nie_co\n",
      "138.tigerofficial_care\n",
      "139.lays_india\n",
      "140.bd_food_rankers\n",
      "141.food_culture_nagpur\n",
      "142.obsessed_with_food_and_art\n",
      "143.foodwaytoheart\n",
      "144.moodfresher_\n",
      "145.kebabiz.mumbai\n",
      "146.momwithhappy_tummies\n",
      "147.soulful_appetite\n",
      "148.noon.mirch\n",
      "149.faiqa_food_and_fun\n",
      "150._love_on_my_plate\n",
      "151.born.hungry17\n",
      "152.shefbychance\n",
      "153.hungrypandaftp\n",
      "154.foodeiz_pedia\n",
      "155.bigappleeatsss\n",
      "156.jugals_mishti\n",
      "157._gooodies_fooodies\n",
      "158.foodishflood\n",
      "159.food_.panda\n",
      "160.hyd_magnafoods\n"
     ]
    }
   ],
   "source": [
    "don=[]\n",
    "f=open(\"non_folls.txt\",\"w+\")\n",
    "for i in range(limit):\n",
    "    s=bot.get_username_from_user_id(nfollowers[i])\n",
    "    #print(\"{}\".format(s))\n",
    "    print(f'{i+1}.{s}')\n",
    "    f.write(s+\"\\n\")\n",
    "    don.append(nfollowers[i])\n",
    "    sleep(randint(0,2))\n",
    "f.close()"
   ]
  },
  {
   "cell_type": "code",
   "execution_count": 10,
   "metadata": {},
   "outputs": [
    {
     "output_type": "stream",
     "name": "stderr",
     "text": [
      "2021-05-17 15:45:26,559 - INFO - Bot stopped. Worked: 0:07:29.242625\n",
      "2021-05-17 15:45:26,567 - INFO - Total requests: 192\n"
     ]
    }
   ],
   "source": [
    "bot.logout()"
   ]
  },
  {
   "cell_type": "code",
   "execution_count": 11,
   "metadata": {},
   "outputs": [],
   "source": [
    "to_unfoll=[]\n",
    "to_unfoll=list(set(nfollowers)-set(don))"
   ]
  },
  {
   "cell_type": "code",
   "execution_count": 12,
   "metadata": {},
   "outputs": [],
   "source": [
    "f=open(\"non_followers.txt\",\"w\")\n",
    "f.write(str(to_unfoll))\n",
    "f.close()"
   ]
  },
  {
   "cell_type": "code",
   "execution_count": null,
   "metadata": {},
   "outputs": [],
   "source": []
  }
 ],
 "metadata": {
  "kernelspec": {
   "name": "python385jvsc74a57bd037eb40c3388cfde35488e2d005b0d69ca91ddeff8a429754d4da636d3f888e5e",
   "display_name": "Python 3.8.5 64-bit ('base': conda)"
  },
  "language_info": {
   "codemirror_mode": {
    "name": "ipython",
    "version": 3
   },
   "file_extension": ".py",
   "mimetype": "text/x-python",
   "name": "python",
   "nbconvert_exporter": "python",
   "pygments_lexer": "ipython3",
   "version": "3.8.5"
  }
 },
 "nbformat": 4,
 "nbformat_minor": 4
}