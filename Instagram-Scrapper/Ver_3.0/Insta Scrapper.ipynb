{
 "cells": [
  {
   "cell_type": "code",
   "execution_count": null,
   "metadata": {},
   "outputs": [],
   "source": [
    "import ast\n",
    "from instabot import Bot\n",
    "from time import sleep\n",
    "from random import randint"
   ]
  },
  {
   "cell_type": "code",
   "execution_count": null,
   "metadata": {},
   "outputs": [],
   "source": [
    "def non_followers(following,followers):\n",
    "\treturn list(set(following) - set(followers))"
   ]
  },
  {
   "cell_type": "code",
   "execution_count": null,
   "metadata": {},
   "outputs": [],
   "source": [
    "bot=Bot()"
   ]
  },
  {
   "cell_type": "code",
   "execution_count": null,
   "metadata": {},
   "outputs": [],
   "source": [
    "bot.login(username=\"__your_instabot_username__\",password=\"__password__\")\n",
    "print(\"LOGGEDIN\")\n",
    "sleep(2)"
   ]
  },
  {
   "source": [
    "# Get All Followers and Non Followers"
   ],
   "cell_type": "markdown",
   "metadata": {}
  },
  {
   "cell_type": "code",
   "execution_count": null,
   "metadata": {},
   "outputs": [],
   "source": [
    "followers = bot.get_user_followers(\"__username__\")\n",
    "f=open(\"Followers.txt\",\"w\")\n",
    "f.write(str(followers))\n",
    "f.close()"
   ]
  },
  {
   "cell_type": "code",
   "execution_count": null,
   "metadata": {},
   "outputs": [],
   "source": [
    "followers = bot.get_user_followers(\"__username__\")\n",
    "f=open(\"Following.txt\",\"w\")\n",
    "f.write(str(following))\n",
    "f.close()"
   ]
  },
  {
   "cell_type": "code",
   "execution_count": null,
   "metadata": {},
   "outputs": [],
   "source": [
    "f=open(\"Followers.txt\",\"r\")\n",
    "if f.mode=='r':\n",
    "    followers=f.read()\n",
    "f.close()\n",
    "print(\"Got Followers\")"
   ]
  },
  {
   "cell_type": "code",
   "execution_count": null,
   "metadata": {},
   "outputs": [],
   "source": [
    "f=open(\"Following.txt\",\"r\")\n",
    "if f.mode=='r':\n",
    "    following=f.read()\n",
    "f.close()\n",
    "print(\"Got Followings\")"
   ]
  },
  {
   "cell_type": "code",
   "execution_count": null,
   "metadata": {},
   "outputs": [],
   "source": [
    "followers = ast.literal_eval(followers)\n",
    "following=ast.literal_eval(following)"
   ]
  },
  {
   "cell_type": "code",
   "execution_count": null,
   "metadata": {},
   "outputs": [],
   "source": [
    "nonfollowers = non_followers(following,followers)\n",
    "f=open(\"non_followers.txt\",\"w\")\n",
    "f.write(str(nonfollowers))\n",
    "f.close()\n",
    "print(\"Completed\")"
   ]
  },
  {
   "cell_type": "code",
   "execution_count": null,
   "metadata": {},
   "outputs": [],
   "source": [
    "len(nonfollowers)"
   ]
  },
  {
   "source": [
    "# Get Non-Followers Username"
   ],
   "cell_type": "markdown",
   "metadata": {}
  },
  {
   "cell_type": "code",
   "execution_count": null,
   "metadata": {},
   "outputs": [],
   "source": [
    "nfollowers=[]\n",
    "\n",
    "f=open(\"non_followers.txt\",\"r\")\n",
    "if f.mode=='r':\n",
    "    nfollowers=f.read()\n",
    "f.close()"
   ]
  },
  {
   "cell_type": "code",
   "execution_count": null,
   "metadata": {},
   "outputs": [],
   "source": [
    "nfollowers = ast.literal_eval(nfollowers)\n",
    "print(\"No of non followers : {}\".format(len(nfollowers)))\n",
    "print(\"Getting username \")"
   ]
  },
  {
   "cell_type": "code",
   "execution_count": null,
   "metadata": {},
   "outputs": [],
   "source": [
    "limit=160 if len(nfollowers)>150 else len(nfollowers)"
   ]
  },
  {
   "cell_type": "code",
   "execution_count": null,
   "metadata": {
    "tags": []
   },
   "outputs": [],
   "source": [
    "don=[]\n",
    "f=open(\"non_folls.txt\",\"w+\")\n",
    "for i in range(limit):\n",
    "    s=bot.get_username_from_user_id(nfollowers[i])\n",
    "    #print(\"{}\".format(s))\n",
    "    print(f'{i+1}.{s}')\n",
    "    f.write(s+\"\\n\")\n",
    "    don.append(nfollowers[i])\n",
    "    sleep(randint(0,2))\n",
    "f.close()"
   ]
  },
  {
   "cell_type": "code",
   "execution_count": null,
   "metadata": {},
   "outputs": [],
   "source": [
    "bot.logout()"
   ]
  },
  {
   "cell_type": "code",
   "execution_count": null,
   "metadata": {},
   "outputs": [],
   "source": [
    "to_unfoll=[]\n",
    "to_unfoll=list(set(nfollowers)-set(don))"
   ]
  },
  {
   "cell_type": "code",
   "execution_count": null,
   "metadata": {},
   "outputs": [],
   "source": [
    "f=open(\"non_followers.txt\",\"w\")\n",
    "f.write(str(to_unfoll))\n",
    "f.close()"
   ]
  }
 ],
 "metadata": {
  "kernelspec": {
   "name": "python385jvsc74a57bd037eb40c3388cfde35488e2d005b0d69ca91ddeff8a429754d4da636d3f888e5e",
   "display_name": "Python 3.8.5 64-bit ('base': conda)"
  },
  "language_info": {
   "codemirror_mode": {
    "name": "ipython",
    "version": 3
   },
   "file_extension": ".py",
   "mimetype": "text/x-python",
   "name": "python",
   "nbconvert_exporter": "python",
   "pygments_lexer": "ipython3",
   "version": "3.8.5"
  }
 },
 "nbformat": 4,
 "nbformat_minor": 4
}